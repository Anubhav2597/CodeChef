{
 "cells": [
  {
   "cell_type": "code",
   "execution_count": 1,
   "metadata": {},
   "outputs": [
    {
     "name": "stdout",
     "output_type": "stream",
     "text": [
      "6\n",
      "1 0\n",
      "0 2\n",
      "2 5\n",
      "4 4\n",
      "5 0\n",
      "6 2\n",
      "3 2\n",
      "Yes\n"
     ]
    }
   ],
   "source": [
    "N=int(input())\n",
    "s=[]\n",
    "for _ in range(N):\n",
    "    x,y=map(int,input().split())\n",
    "    s.append([x+1,y+2])\n",
    "    s.append([x+2,y+1])\n",
    "    s.append([x-1,y-2])\n",
    "    s.append([x-2,y-1])\n",
    "    s.append([x+1,y-2])\n",
    "    s.append([x-1,y+2])\n",
    "    s.append([x+2,y-1])\n",
    "    s.append([x-2,y+1])\n",
    "    s.append([x,y])\n",
    "k=[]\n",
    "x,y=map(int,input().split())\n",
    "k.append([x,y])\n",
    "k.append([x+1,y+1])\n",
    "k.append([x+1,y-1])\n",
    "k.append([x+1,y])\n",
    "k.append([x,y+1])\n",
    "k.append([x-1,y+1])\n",
    "k.append([x-1,y-1])\n",
    "k.append([x,y-1])\n",
    "k.append([x-1,y])\n",
    "for j in s:\n",
    "    for i in k:\n",
    "        if j==i:\n",
    "            k.remove(i)\n",
    "if len(k)==0:\n",
    "    print(\"Yes\")\n",
    "else:\n",
    "    print(\"No\")"
   ]
  },
  {
   "cell_type": "code",
   "execution_count": null,
   "metadata": {},
   "outputs": [],
   "source": []
  },
  {
   "cell_type": "code",
   "execution_count": null,
   "metadata": {},
   "outputs": [],
   "source": []
  }
 ],
 "metadata": {
  "kernelspec": {
   "display_name": "Python 3",
   "language": "python",
   "name": "python3"
  },
  "language_info": {
   "codemirror_mode": {
    "name": "ipython",
    "version": 3
   },
   "file_extension": ".py",
   "mimetype": "text/x-python",
   "name": "python",
   "nbconvert_exporter": "python",
   "pygments_lexer": "ipython3",
   "version": "3.6.5"
  }
 },
 "nbformat": 4,
 "nbformat_minor": 2
}
